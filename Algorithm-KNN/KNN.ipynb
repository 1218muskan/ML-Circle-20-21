{
 "cells": [
  {
   "cell_type": "markdown",
   "metadata": {},
   "source": [
    "### Example (on a dataset)"
   ]
  },
  {
   "cell_type": "code",
   "execution_count": 4,
   "metadata": {},
   "outputs": [],
   "source": [
    "#theory\n",
    "#mathematics\n",
    "#examples\n",
    "#code"
   ]
  },
  {
   "cell_type": "code",
   "execution_count": 2,
   "metadata": {
    "id": "PY6VKw0urUcl"
   },
   "outputs": [],
   "source": [
    "import numpy as np #claculations on numeric data\n",
    "import matplotlib.pyplot as plt #plotting graphs\n",
    "import pandas as pd #working on csv files"
   ]
  },
  {
   "cell_type": "code",
   "execution_count": 3,
   "metadata": {
    "id": "fm23gWENrY2E"
   },
   "outputs": [],
   "source": [
    "url = \"https://archive.ics.uci.edu/ml/machine-learning-databases/iris/iris.data\"\n",
    "\n",
    "# Assign colum names to the dataset\n",
    "names = ['sepal-length', 'sepal-width', 'petal-length', 'petal-width', 'Class'] \n",
    "\n",
    "# Read dataset to pandas dataframe\n",
    "dataset = pd.read_csv(url, names=names)"
   ]
  },
  {
   "cell_type": "code",
   "execution_count": 34,
   "metadata": {
    "colab": {
     "base_uri": "https://localhost:8080/",
     "height": 234
    },
    "id": "rDstnEyrrvwM",
    "outputId": "67badca7-eeef-42e5-fc70-501cedd12650"
   },
   "outputs": [
    {
     "data": {
      "text/html": [
       "<div>\n",
       "<style scoped>\n",
       "    .dataframe tbody tr th:only-of-type {\n",
       "        vertical-align: middle;\n",
       "    }\n",
       "\n",
       "    .dataframe tbody tr th {\n",
       "        vertical-align: top;\n",
       "    }\n",
       "\n",
       "    .dataframe thead th {\n",
       "        text-align: right;\n",
       "    }\n",
       "</style>\n",
       "<table border=\"1\" class=\"dataframe\">\n",
       "  <thead>\n",
       "    <tr style=\"text-align: right;\">\n",
       "      <th></th>\n",
       "      <th>sepal-length</th>\n",
       "      <th>sepal-width</th>\n",
       "      <th>petal-length</th>\n",
       "      <th>petal-width</th>\n",
       "      <th>Class</th>\n",
       "    </tr>\n",
       "  </thead>\n",
       "  <tbody>\n",
       "    <tr>\n",
       "      <th>0</th>\n",
       "      <td>5.1</td>\n",
       "      <td>3.5</td>\n",
       "      <td>1.4</td>\n",
       "      <td>0.2</td>\n",
       "      <td>Iris-setosa</td>\n",
       "    </tr>\n",
       "    <tr>\n",
       "      <th>1</th>\n",
       "      <td>4.9</td>\n",
       "      <td>3.0</td>\n",
       "      <td>1.4</td>\n",
       "      <td>0.2</td>\n",
       "      <td>Iris-setosa</td>\n",
       "    </tr>\n",
       "    <tr>\n",
       "      <th>2</th>\n",
       "      <td>4.7</td>\n",
       "      <td>3.2</td>\n",
       "      <td>1.3</td>\n",
       "      <td>0.2</td>\n",
       "      <td>Iris-setosa</td>\n",
       "    </tr>\n",
       "    <tr>\n",
       "      <th>3</th>\n",
       "      <td>4.6</td>\n",
       "      <td>3.1</td>\n",
       "      <td>1.5</td>\n",
       "      <td>0.2</td>\n",
       "      <td>Iris-setosa</td>\n",
       "    </tr>\n",
       "    <tr>\n",
       "      <th>4</th>\n",
       "      <td>5.0</td>\n",
       "      <td>3.6</td>\n",
       "      <td>1.4</td>\n",
       "      <td>0.2</td>\n",
       "      <td>Iris-setosa</td>\n",
       "    </tr>\n",
       "    <tr>\n",
       "      <th>...</th>\n",
       "      <td>...</td>\n",
       "      <td>...</td>\n",
       "      <td>...</td>\n",
       "      <td>...</td>\n",
       "      <td>...</td>\n",
       "    </tr>\n",
       "    <tr>\n",
       "      <th>145</th>\n",
       "      <td>6.7</td>\n",
       "      <td>3.0</td>\n",
       "      <td>5.2</td>\n",
       "      <td>2.3</td>\n",
       "      <td>Iris-virginica</td>\n",
       "    </tr>\n",
       "    <tr>\n",
       "      <th>146</th>\n",
       "      <td>6.3</td>\n",
       "      <td>2.5</td>\n",
       "      <td>5.0</td>\n",
       "      <td>1.9</td>\n",
       "      <td>Iris-virginica</td>\n",
       "    </tr>\n",
       "    <tr>\n",
       "      <th>147</th>\n",
       "      <td>6.5</td>\n",
       "      <td>3.0</td>\n",
       "      <td>5.2</td>\n",
       "      <td>2.0</td>\n",
       "      <td>Iris-virginica</td>\n",
       "    </tr>\n",
       "    <tr>\n",
       "      <th>148</th>\n",
       "      <td>6.2</td>\n",
       "      <td>3.4</td>\n",
       "      <td>5.4</td>\n",
       "      <td>2.3</td>\n",
       "      <td>Iris-virginica</td>\n",
       "    </tr>\n",
       "    <tr>\n",
       "      <th>149</th>\n",
       "      <td>5.9</td>\n",
       "      <td>3.0</td>\n",
       "      <td>5.1</td>\n",
       "      <td>1.8</td>\n",
       "      <td>Iris-virginica</td>\n",
       "    </tr>\n",
       "  </tbody>\n",
       "</table>\n",
       "<p>150 rows × 5 columns</p>\n",
       "</div>"
      ],
      "text/plain": [
       "     sepal-length  sepal-width  petal-length  petal-width           Class\n",
       "0             5.1          3.5           1.4          0.2     Iris-setosa\n",
       "1             4.9          3.0           1.4          0.2     Iris-setosa\n",
       "2             4.7          3.2           1.3          0.2     Iris-setosa\n",
       "3             4.6          3.1           1.5          0.2     Iris-setosa\n",
       "4             5.0          3.6           1.4          0.2     Iris-setosa\n",
       "..            ...          ...           ...          ...             ...\n",
       "145           6.7          3.0           5.2          2.3  Iris-virginica\n",
       "146           6.3          2.5           5.0          1.9  Iris-virginica\n",
       "147           6.5          3.0           5.2          2.0  Iris-virginica\n",
       "148           6.2          3.4           5.4          2.3  Iris-virginica\n",
       "149           5.9          3.0           5.1          1.8  Iris-virginica\n",
       "\n",
       "[150 rows x 5 columns]"
      ]
     },
     "execution_count": 34,
     "metadata": {},
     "output_type": "execute_result"
    }
   ],
   "source": [
    "dataset #Number of data points = 150\n",
    "#dataset.head(3)"
   ]
  },
  {
   "cell_type": "code",
   "execution_count": 4,
   "metadata": {
    "id": "rwCR6n6erzE2"
   },
   "outputs": [],
   "source": [
    "X = dataset.iloc[:, :-1].values #values is a predefined function for conv csv to numpy array\n",
    "y = dataset.iloc[:, 4].values"
   ]
  },
  {
   "cell_type": "code",
   "execution_count": 5,
   "metadata": {
    "colab": {
     "base_uri": "https://localhost:8080/"
    },
    "id": "sR2nCASbL0AK",
    "outputId": "7ef492b7-ce6c-45a6-c2ad-86834f9a51c1"
   },
   "outputs": [
    {
     "data": {
      "text/plain": [
       "array([[5.1, 3.5, 1.4, 0.2],\n",
       "       [4.9, 3. , 1.4, 0.2],\n",
       "       [4.7, 3.2, 1.3, 0.2],\n",
       "       [4.6, 3.1, 1.5, 0.2],\n",
       "       [5. , 3.6, 1.4, 0.2],\n",
       "       [5.4, 3.9, 1.7, 0.4],\n",
       "       [4.6, 3.4, 1.4, 0.3],\n",
       "       [5. , 3.4, 1.5, 0.2],\n",
       "       [4.4, 2.9, 1.4, 0.2],\n",
       "       [4.9, 3.1, 1.5, 0.1],\n",
       "       [5.4, 3.7, 1.5, 0.2],\n",
       "       [4.8, 3.4, 1.6, 0.2],\n",
       "       [4.8, 3. , 1.4, 0.1],\n",
       "       [4.3, 3. , 1.1, 0.1],\n",
       "       [5.8, 4. , 1.2, 0.2],\n",
       "       [5.7, 4.4, 1.5, 0.4],\n",
       "       [5.4, 3.9, 1.3, 0.4],\n",
       "       [5.1, 3.5, 1.4, 0.3],\n",
       "       [5.7, 3.8, 1.7, 0.3],\n",
       "       [5.1, 3.8, 1.5, 0.3],\n",
       "       [5.4, 3.4, 1.7, 0.2],\n",
       "       [5.1, 3.7, 1.5, 0.4],\n",
       "       [4.6, 3.6, 1. , 0.2],\n",
       "       [5.1, 3.3, 1.7, 0.5],\n",
       "       [4.8, 3.4, 1.9, 0.2],\n",
       "       [5. , 3. , 1.6, 0.2],\n",
       "       [5. , 3.4, 1.6, 0.4],\n",
       "       [5.2, 3.5, 1.5, 0.2],\n",
       "       [5.2, 3.4, 1.4, 0.2],\n",
       "       [4.7, 3.2, 1.6, 0.2],\n",
       "       [4.8, 3.1, 1.6, 0.2],\n",
       "       [5.4, 3.4, 1.5, 0.4],\n",
       "       [5.2, 4.1, 1.5, 0.1],\n",
       "       [5.5, 4.2, 1.4, 0.2],\n",
       "       [4.9, 3.1, 1.5, 0.1],\n",
       "       [5. , 3.2, 1.2, 0.2],\n",
       "       [5.5, 3.5, 1.3, 0.2],\n",
       "       [4.9, 3.1, 1.5, 0.1],\n",
       "       [4.4, 3. , 1.3, 0.2],\n",
       "       [5.1, 3.4, 1.5, 0.2],\n",
       "       [5. , 3.5, 1.3, 0.3],\n",
       "       [4.5, 2.3, 1.3, 0.3],\n",
       "       [4.4, 3.2, 1.3, 0.2],\n",
       "       [5. , 3.5, 1.6, 0.6],\n",
       "       [5.1, 3.8, 1.9, 0.4],\n",
       "       [4.8, 3. , 1.4, 0.3],\n",
       "       [5.1, 3.8, 1.6, 0.2],\n",
       "       [4.6, 3.2, 1.4, 0.2],\n",
       "       [5.3, 3.7, 1.5, 0.2],\n",
       "       [5. , 3.3, 1.4, 0.2],\n",
       "       [7. , 3.2, 4.7, 1.4],\n",
       "       [6.4, 3.2, 4.5, 1.5],\n",
       "       [6.9, 3.1, 4.9, 1.5],\n",
       "       [5.5, 2.3, 4. , 1.3],\n",
       "       [6.5, 2.8, 4.6, 1.5],\n",
       "       [5.7, 2.8, 4.5, 1.3],\n",
       "       [6.3, 3.3, 4.7, 1.6],\n",
       "       [4.9, 2.4, 3.3, 1. ],\n",
       "       [6.6, 2.9, 4.6, 1.3],\n",
       "       [5.2, 2.7, 3.9, 1.4],\n",
       "       [5. , 2. , 3.5, 1. ],\n",
       "       [5.9, 3. , 4.2, 1.5],\n",
       "       [6. , 2.2, 4. , 1. ],\n",
       "       [6.1, 2.9, 4.7, 1.4],\n",
       "       [5.6, 2.9, 3.6, 1.3],\n",
       "       [6.7, 3.1, 4.4, 1.4],\n",
       "       [5.6, 3. , 4.5, 1.5],\n",
       "       [5.8, 2.7, 4.1, 1. ],\n",
       "       [6.2, 2.2, 4.5, 1.5],\n",
       "       [5.6, 2.5, 3.9, 1.1],\n",
       "       [5.9, 3.2, 4.8, 1.8],\n",
       "       [6.1, 2.8, 4. , 1.3],\n",
       "       [6.3, 2.5, 4.9, 1.5],\n",
       "       [6.1, 2.8, 4.7, 1.2],\n",
       "       [6.4, 2.9, 4.3, 1.3],\n",
       "       [6.6, 3. , 4.4, 1.4],\n",
       "       [6.8, 2.8, 4.8, 1.4],\n",
       "       [6.7, 3. , 5. , 1.7],\n",
       "       [6. , 2.9, 4.5, 1.5],\n",
       "       [5.7, 2.6, 3.5, 1. ],\n",
       "       [5.5, 2.4, 3.8, 1.1],\n",
       "       [5.5, 2.4, 3.7, 1. ],\n",
       "       [5.8, 2.7, 3.9, 1.2],\n",
       "       [6. , 2.7, 5.1, 1.6],\n",
       "       [5.4, 3. , 4.5, 1.5],\n",
       "       [6. , 3.4, 4.5, 1.6],\n",
       "       [6.7, 3.1, 4.7, 1.5],\n",
       "       [6.3, 2.3, 4.4, 1.3],\n",
       "       [5.6, 3. , 4.1, 1.3],\n",
       "       [5.5, 2.5, 4. , 1.3],\n",
       "       [5.5, 2.6, 4.4, 1.2],\n",
       "       [6.1, 3. , 4.6, 1.4],\n",
       "       [5.8, 2.6, 4. , 1.2],\n",
       "       [5. , 2.3, 3.3, 1. ],\n",
       "       [5.6, 2.7, 4.2, 1.3],\n",
       "       [5.7, 3. , 4.2, 1.2],\n",
       "       [5.7, 2.9, 4.2, 1.3],\n",
       "       [6.2, 2.9, 4.3, 1.3],\n",
       "       [5.1, 2.5, 3. , 1.1],\n",
       "       [5.7, 2.8, 4.1, 1.3],\n",
       "       [6.3, 3.3, 6. , 2.5],\n",
       "       [5.8, 2.7, 5.1, 1.9],\n",
       "       [7.1, 3. , 5.9, 2.1],\n",
       "       [6.3, 2.9, 5.6, 1.8],\n",
       "       [6.5, 3. , 5.8, 2.2],\n",
       "       [7.6, 3. , 6.6, 2.1],\n",
       "       [4.9, 2.5, 4.5, 1.7],\n",
       "       [7.3, 2.9, 6.3, 1.8],\n",
       "       [6.7, 2.5, 5.8, 1.8],\n",
       "       [7.2, 3.6, 6.1, 2.5],\n",
       "       [6.5, 3.2, 5.1, 2. ],\n",
       "       [6.4, 2.7, 5.3, 1.9],\n",
       "       [6.8, 3. , 5.5, 2.1],\n",
       "       [5.7, 2.5, 5. , 2. ],\n",
       "       [5.8, 2.8, 5.1, 2.4],\n",
       "       [6.4, 3.2, 5.3, 2.3],\n",
       "       [6.5, 3. , 5.5, 1.8],\n",
       "       [7.7, 3.8, 6.7, 2.2],\n",
       "       [7.7, 2.6, 6.9, 2.3],\n",
       "       [6. , 2.2, 5. , 1.5],\n",
       "       [6.9, 3.2, 5.7, 2.3],\n",
       "       [5.6, 2.8, 4.9, 2. ],\n",
       "       [7.7, 2.8, 6.7, 2. ],\n",
       "       [6.3, 2.7, 4.9, 1.8],\n",
       "       [6.7, 3.3, 5.7, 2.1],\n",
       "       [7.2, 3.2, 6. , 1.8],\n",
       "       [6.2, 2.8, 4.8, 1.8],\n",
       "       [6.1, 3. , 4.9, 1.8],\n",
       "       [6.4, 2.8, 5.6, 2.1],\n",
       "       [7.2, 3. , 5.8, 1.6],\n",
       "       [7.4, 2.8, 6.1, 1.9],\n",
       "       [7.9, 3.8, 6.4, 2. ],\n",
       "       [6.4, 2.8, 5.6, 2.2],\n",
       "       [6.3, 2.8, 5.1, 1.5],\n",
       "       [6.1, 2.6, 5.6, 1.4],\n",
       "       [7.7, 3. , 6.1, 2.3],\n",
       "       [6.3, 3.4, 5.6, 2.4],\n",
       "       [6.4, 3.1, 5.5, 1.8],\n",
       "       [6. , 3. , 4.8, 1.8],\n",
       "       [6.9, 3.1, 5.4, 2.1],\n",
       "       [6.7, 3.1, 5.6, 2.4],\n",
       "       [6.9, 3.1, 5.1, 2.3],\n",
       "       [5.8, 2.7, 5.1, 1.9],\n",
       "       [6.8, 3.2, 5.9, 2.3],\n",
       "       [6.7, 3.3, 5.7, 2.5],\n",
       "       [6.7, 3. , 5.2, 2.3],\n",
       "       [6.3, 2.5, 5. , 1.9],\n",
       "       [6.5, 3. , 5.2, 2. ],\n",
       "       [6.2, 3.4, 5.4, 2.3],\n",
       "       [5.9, 3. , 5.1, 1.8]])"
      ]
     },
     "execution_count": 5,
     "metadata": {},
     "output_type": "execute_result"
    }
   ],
   "source": [
    "X"
   ]
  },
  {
   "cell_type": "code",
   "execution_count": 6,
   "metadata": {
    "colab": {
     "base_uri": "https://localhost:8080/"
    },
    "id": "tEzUE1ZxMB7S",
    "outputId": "35138904-a2b2-4db3-9e35-b27845172434"
   },
   "outputs": [
    {
     "data": {
      "text/plain": [
       "array(['Iris-setosa', 'Iris-setosa', 'Iris-setosa', 'Iris-setosa',\n",
       "       'Iris-setosa', 'Iris-setosa', 'Iris-setosa', 'Iris-setosa',\n",
       "       'Iris-setosa', 'Iris-setosa', 'Iris-setosa', 'Iris-setosa',\n",
       "       'Iris-setosa', 'Iris-setosa', 'Iris-setosa', 'Iris-setosa',\n",
       "       'Iris-setosa', 'Iris-setosa', 'Iris-setosa', 'Iris-setosa',\n",
       "       'Iris-setosa', 'Iris-setosa', 'Iris-setosa', 'Iris-setosa',\n",
       "       'Iris-setosa', 'Iris-setosa', 'Iris-setosa', 'Iris-setosa',\n",
       "       'Iris-setosa', 'Iris-setosa', 'Iris-setosa', 'Iris-setosa',\n",
       "       'Iris-setosa', 'Iris-setosa', 'Iris-setosa', 'Iris-setosa',\n",
       "       'Iris-setosa', 'Iris-setosa', 'Iris-setosa', 'Iris-setosa',\n",
       "       'Iris-setosa', 'Iris-setosa', 'Iris-setosa', 'Iris-setosa',\n",
       "       'Iris-setosa', 'Iris-setosa', 'Iris-setosa', 'Iris-setosa',\n",
       "       'Iris-setosa', 'Iris-setosa', 'Iris-versicolor', 'Iris-versicolor',\n",
       "       'Iris-versicolor', 'Iris-versicolor', 'Iris-versicolor',\n",
       "       'Iris-versicolor', 'Iris-versicolor', 'Iris-versicolor',\n",
       "       'Iris-versicolor', 'Iris-versicolor', 'Iris-versicolor',\n",
       "       'Iris-versicolor', 'Iris-versicolor', 'Iris-versicolor',\n",
       "       'Iris-versicolor', 'Iris-versicolor', 'Iris-versicolor',\n",
       "       'Iris-versicolor', 'Iris-versicolor', 'Iris-versicolor',\n",
       "       'Iris-versicolor', 'Iris-versicolor', 'Iris-versicolor',\n",
       "       'Iris-versicolor', 'Iris-versicolor', 'Iris-versicolor',\n",
       "       'Iris-versicolor', 'Iris-versicolor', 'Iris-versicolor',\n",
       "       'Iris-versicolor', 'Iris-versicolor', 'Iris-versicolor',\n",
       "       'Iris-versicolor', 'Iris-versicolor', 'Iris-versicolor',\n",
       "       'Iris-versicolor', 'Iris-versicolor', 'Iris-versicolor',\n",
       "       'Iris-versicolor', 'Iris-versicolor', 'Iris-versicolor',\n",
       "       'Iris-versicolor', 'Iris-versicolor', 'Iris-versicolor',\n",
       "       'Iris-versicolor', 'Iris-versicolor', 'Iris-versicolor',\n",
       "       'Iris-versicolor', 'Iris-versicolor', 'Iris-versicolor',\n",
       "       'Iris-virginica', 'Iris-virginica', 'Iris-virginica',\n",
       "       'Iris-virginica', 'Iris-virginica', 'Iris-virginica',\n",
       "       'Iris-virginica', 'Iris-virginica', 'Iris-virginica',\n",
       "       'Iris-virginica', 'Iris-virginica', 'Iris-virginica',\n",
       "       'Iris-virginica', 'Iris-virginica', 'Iris-virginica',\n",
       "       'Iris-virginica', 'Iris-virginica', 'Iris-virginica',\n",
       "       'Iris-virginica', 'Iris-virginica', 'Iris-virginica',\n",
       "       'Iris-virginica', 'Iris-virginica', 'Iris-virginica',\n",
       "       'Iris-virginica', 'Iris-virginica', 'Iris-virginica',\n",
       "       'Iris-virginica', 'Iris-virginica', 'Iris-virginica',\n",
       "       'Iris-virginica', 'Iris-virginica', 'Iris-virginica',\n",
       "       'Iris-virginica', 'Iris-virginica', 'Iris-virginica',\n",
       "       'Iris-virginica', 'Iris-virginica', 'Iris-virginica',\n",
       "       'Iris-virginica', 'Iris-virginica', 'Iris-virginica',\n",
       "       'Iris-virginica', 'Iris-virginica', 'Iris-virginica',\n",
       "       'Iris-virginica', 'Iris-virginica', 'Iris-virginica',\n",
       "       'Iris-virginica', 'Iris-virginica'], dtype=object)"
      ]
     },
     "execution_count": 6,
     "metadata": {},
     "output_type": "execute_result"
    }
   ],
   "source": [
    "y"
   ]
  },
  {
   "cell_type": "code",
   "execution_count": 7,
   "metadata": {
    "id": "fZMq_vn8tXl3"
   },
   "outputs": [],
   "source": [
    "from sklearn.model_selection import train_test_split \n",
    "X_train, X_test, y_train, y_test = train_test_split(X, y, test_size=0.20)  "
   ]
  },
  {
   "attachments": {
    "image.png": {
     "image/png": "[encoded data removed]"
    }
   },
   "cell_type": "markdown",
   "metadata": {},
   "source": [
    "![image.png](attachment:image.png)"
   ]
  },
  {
   "cell_type": "markdown",
   "metadata": {
    "id": "MBWpZ8-aMecI"
   },
   "source": [
    "The idea behind StandardScaler is that it will transform your data such that its distribution will have a mean value 0 and standard deviation of 1.\n",
    "\n",
    "Given the distribution of the data, each value in the dataset will have the mean value subtracted, and then divided by the standard deviation of the whole dataset (or feature in the multivariate case).\n",
    "\n",
    "![image.png](data:image/png;base64,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)"
   ]
  },
  {
   "cell_type": "code",
   "execution_count": 8,
   "metadata": {
    "id": "DPvgs9VWtb-X"
   },
   "outputs": [],
   "source": [
    "from sklearn.preprocessing import StandardScaler #making data homegenous \n",
    "scaler = StandardScaler()\n",
    "scaler.fit(X_train) #performing stand scalar on x_train\n",
    "\n",
    "X_train = scaler.transform(X_train)\n",
    "X_test = scaler.transform(X_test) "
   ]
  },
  {
   "cell_type": "code",
   "execution_count": 9,
   "metadata": {
    "colab": {
     "base_uri": "https://localhost:8080/"
    },
    "id": "Tf6imLNtMGkL",
    "outputId": "9be31bca-ab3f-482c-ad32-5171235f472a"
   },
   "outputs": [
    {
     "data": {
      "text/plain": [
       "array([[ 2.30518117, -0.5845729 ,  1.6537944 ,  1.02104234],\n",
       "       [-0.3269242 , -0.80797655,  0.20606076,  0.08979851],\n",
       "       [ 1.05179766, -0.13776559,  0.78515421,  1.42014684],\n",
       "       [-1.58030771,  0.30904172, -1.41540093, -1.37358465],\n",
       "       [-0.95361595,  1.64946365, -1.35749158, -1.24054981],\n",
       "       [ 2.30518117, -1.03138021,  1.76961309,  1.42014684],\n",
       "       [-0.0762475 , -0.80797655,  0.03233272, -0.04323632],\n",
       "       [ 0.29976756, -1.03138021,  1.0167916 ,  0.22283334],\n",
       "       [ 0.29976756, -0.5845729 ,  0.49560748, -0.04323632],\n",
       "       [ 1.67848941,  0.30904172,  1.24842898,  0.75497267],\n",
       "       [-0.95361595,  0.53244538, -1.24167289, -0.97448015],\n",
       "       [-1.45496935,  0.30904172, -1.47331027, -1.37358465],\n",
       "       [ 1.92916611, -0.5845729 ,  1.30633832,  0.88800751],\n",
       "       [ 0.29976756, -0.13776559,  0.43769814,  0.22283334],\n",
       "       [ 0.55044426, -0.5845729 ,  0.72724487,  0.35586818],\n",
       "       [-0.8282776 ,  0.75584903, -1.41540093, -1.37358465],\n",
       "       [-1.329631  ,  0.75584903, -1.29958223, -1.37358465],\n",
       "       [ 0.29976756, -0.36116924,  0.49560748,  0.22283334],\n",
       "       [-0.8282776 , -0.80797655,  0.03233272,  0.22283334],\n",
       "       [-0.20158585,  1.64946365, -1.24167289, -1.24054981],\n",
       "       [-0.5776009 ,  1.87286731, -1.24167289, -1.10751498],\n",
       "       [ 0.42510591,  0.75584903,  0.9009729 ,  1.42014684],\n",
       "       [ 2.30518117,  1.64946365,  1.6537944 ,  1.28711201],\n",
       "       [-0.3269242 , -0.13776559,  0.14815141,  0.08979851],\n",
       "       [ 0.80112096, -0.5845729 ,  0.43769814,  0.35586818],\n",
       "       [-0.0762475 , -0.5845729 ,  0.72724487,  1.55318167],\n",
       "       [ 0.04909085, -0.13776559,  0.72724487,  0.75497267],\n",
       "       [ 1.05179766,  0.08563807,  1.0167916 ,  1.55318167],\n",
       "       [ 0.55044426,  0.75584903,  1.0167916 ,  1.55318167],\n",
       "       [-1.83098441,  0.30904172, -1.47331027, -1.37358465],\n",
       "       [ 0.80112096, -0.13776559,  0.78515421,  1.02104234],\n",
       "       [-0.20158585, -0.13776559,  0.20606076, -0.04323632],\n",
       "       [-1.20429265,  0.08563807, -1.35749158, -1.50661948],\n",
       "       [ 0.1744292 , -0.36116924,  0.37978879,  0.35586818],\n",
       "       [-0.45226255, -1.47818752, -0.08348597, -0.30930599],\n",
       "       [-0.3269242 , -0.13776559,  0.37978879,  0.35586818],\n",
       "       [-1.0789543 ,  0.30904172, -1.53121962, -1.37358465],\n",
       "       [ 0.1744292 ,  0.75584903,  0.37978879,  0.48890301],\n",
       "       [-1.0789543 , -2.37180214, -0.19930466, -0.30930599],\n",
       "       [-1.20429265, -1.47818752, -0.31512336, -0.30930599],\n",
       "       [-0.5776009 ,  0.75584903, -1.24167289, -1.37358465],\n",
       "       [ 0.67578261, -0.5845729 ,  1.0167916 ,  1.28711201],\n",
       "       [ 1.30247436,  0.08563807,  0.61142618,  0.35586818],\n",
       "       [ 1.05179766, -0.13776559,  0.66933552,  0.62193784],\n",
       "       [ 0.55044426,  0.53244538,  1.24842898,  1.6862165 ],\n",
       "       [-0.8282776 ,  2.31967462, -1.35749158, -1.50661948],\n",
       "       [ 0.80112096, -0.13776559,  1.13261029,  1.28711201],\n",
       "       [-1.329631  ,  0.08563807, -1.29958223, -1.37358465],\n",
       "       [-1.20429265,  0.08563807, -1.35749158, -1.50661948],\n",
       "       [ 0.67578261, -0.36116924,  0.2639701 ,  0.08979851],\n",
       "       [-1.20429265, -1.25478386,  0.37978879,  0.62193784],\n",
       "       [-1.0789543 ,  1.20265634, -1.41540093, -1.37358465],\n",
       "       [-0.45226255,  2.54307827, -1.41540093, -1.37358465],\n",
       "       [ 0.42510591, -1.92499483,  0.37978879,  0.35586818],\n",
       "       [-0.95361595,  0.97925269, -1.41540093, -1.24054981],\n",
       "       [ 1.30247436,  0.08563807,  0.9009729 ,  1.15407717],\n",
       "       [-0.45226255, -1.03138021,  0.32187945, -0.04323632],\n",
       "       [ 1.05179766,  0.53244538,  1.07470094,  1.6862165 ],\n",
       "       [-0.0762475 ,  2.09627096, -1.53121962, -1.37358465],\n",
       "       [-0.5776009 ,  0.75584903, -1.35749158, -1.10751498],\n",
       "       [-0.20158585, -0.36116924,  0.20606076,  0.08979851],\n",
       "       [ 0.80112096,  0.30904172,  0.72724487,  1.02104234],\n",
       "       [ 1.05179766,  0.08563807,  0.49560748,  0.35586818],\n",
       "       [-1.95632276, -0.13776559, -1.58912896, -1.50661948],\n",
       "       [ 2.55585787,  1.64946365,  1.48006636,  1.02104234],\n",
       "       [ 1.67848941, -0.13776559,  1.13261029,  0.48890301],\n",
       "       [-0.0762475 , -0.80797655,  0.72724487,  0.88800751],\n",
       "       [ 1.55315106, -0.13776559,  1.19051963,  1.15407717],\n",
       "       [ 0.04909085, -0.13776559,  0.20606076,  0.35586818],\n",
       "       [-0.45226255, -1.70159117,  0.09024206,  0.08979851],\n",
       "       [ 0.55044426, -0.80797655,  0.61142618,  0.75497267],\n",
       "       [ 0.67578261,  0.30904172,  0.37978879,  0.35586818],\n",
       "       [-0.20158585,  2.98988558, -1.35749158, -1.10751498],\n",
       "       [-0.5776009 ,  1.42606   , -1.35749158, -1.37358465],\n",
       "       [-1.70564606, -1.70159117, -1.47331027, -1.24054981],\n",
       "       [ 0.67578261,  0.08563807,  0.95888225,  0.75497267],\n",
       "       [-0.45226255,  0.97925269, -1.47331027, -1.37358465],\n",
       "       [ 0.67578261, -0.80797655,  0.84306356,  0.88800751],\n",
       "       [-0.0762475 , -1.03138021,  0.09024206, -0.04323632],\n",
       "       [ 1.42781271,  0.30904172,  0.49560748,  0.22283334],\n",
       "       [-1.0789543 , -1.70159117, -0.31512336, -0.30930599],\n",
       "       [-0.3269242 , -0.5845729 ,  0.61142618,  1.02104234],\n",
       "       [ 1.05179766,  0.53244538,  1.07470094,  1.15407717],\n",
       "       [ 0.80112096, -0.13776559,  0.95888225,  0.75497267],\n",
       "       [ 0.04909085,  0.30904172,  0.55351683,  0.75497267],\n",
       "       [-0.0762475 , -0.80797655,  0.72724487,  0.88800751],\n",
       "       [-0.45226255, -1.25478386,  0.09024206,  0.08979851],\n",
       "       [ 0.1744292 , -0.80797655,  0.72724487,  0.48890301],\n",
       "       [ 1.67848941,  1.20265634,  1.30633832,  1.6862165 ],\n",
       "       [ 1.05179766, -1.25478386,  1.13261029,  0.75497267],\n",
       "       [-0.5776009 , -0.13776559,  0.37978879,  0.35586818],\n",
       "       [ 0.42510591, -0.36116924,  0.2639701 ,  0.08979851],\n",
       "       [ 0.55044426, -1.25478386,  0.61142618,  0.35586818],\n",
       "       [-0.8282776 ,  0.97925269, -1.35749158, -1.37358465],\n",
       "       [ 0.67578261,  0.30904172,  0.84306356,  1.42014684],\n",
       "       [-0.0762475 , -0.80797655,  0.14815141, -0.30930599],\n",
       "       [-1.0789543 ,  0.75584903, -1.35749158, -1.37358465],\n",
       "       [-1.0789543 ,  0.97925269, -1.47331027, -1.24054981],\n",
       "       [-0.95361595,  1.64946365, -1.1258542 , -1.10751498],\n",
       "       [ 0.1744292 , -0.13776559,  0.55351683,  0.75497267],\n",
       "       [-0.95361595,  1.64946365, -1.29958223, -1.37358465],\n",
       "       [-0.95361595, -1.25478386, -0.48885139, -0.17627115],\n",
       "       [ 1.17713601,  0.30904172,  1.19051963,  1.42014684],\n",
       "       [-1.58030771,  0.75584903, -1.41540093, -1.24054981],\n",
       "       [-1.329631  ,  0.75584903, -1.1258542 , -1.37358465],\n",
       "       [-0.95361595,  1.42606   , -1.35749158, -1.10751498],\n",
       "       [-1.83098441, -0.13776559, -1.47331027, -1.37358465],\n",
       "       [ 0.42510591, -0.5845729 ,  0.55351683,  0.75497267],\n",
       "       [-1.0789543 ,  0.75584903, -1.29958223, -1.10751498],\n",
       "       [-1.0789543 , -0.13776559, -1.29958223, -1.37358465],\n",
       "       [ 1.80382776, -0.36116924,  1.42215702,  0.75497267],\n",
       "       [ 1.30247436,  0.30904172,  1.07470094,  1.42014684],\n",
       "       [ 0.55044426, -1.25478386,  0.66933552,  0.88800751],\n",
       "       [-0.20158585, -1.03138021, -0.19930466, -0.30930599],\n",
       "       [ 0.1744292 , -1.92499483,  0.09024206, -0.30930599],\n",
       "       [-0.20158585, -0.5845729 ,  0.37978879,  0.08979851],\n",
       "       [ 0.29976756, -0.5845729 ,  0.09024206,  0.08979851],\n",
       "       [-0.3269242 , -1.25478386,  0.03233272, -0.17627115],\n",
       "       [-0.70293925,  1.42606   , -1.35749158, -1.37358465],\n",
       "       [-0.20158585, -0.5845729 ,  0.14815141,  0.08979851]])"
      ]
     },
     "execution_count": 9,
     "metadata": {},
     "output_type": "execute_result"
    }
   ],
   "source": [
    "X_train"
   ]
  },
  {
   "cell_type": "code",
   "execution_count": 10,
   "metadata": {
    "colab": {
     "base_uri": "https://localhost:8080/"
    },
    "id": "HXemfsNitmsF",
    "outputId": "00bb60c4-1884-4f08-81d2-e927b829a2e7"
   },
   "outputs": [
    {
     "data": {
      "text/plain": [
       "KNeighborsClassifier(algorithm='auto', leaf_size=30, metric='minkowski',\n",
       "                     metric_params=None, n_jobs=None, n_neighbors=5, p=2,\n",
       "                     weights='uniform')"
      ]
     },
     "execution_count": 10,
     "metadata": {},
     "output_type": "execute_result"
    }
   ],
   "source": [
    "from sklearn.neighbors import KNeighborsClassifier \n",
    "classifier = KNeighborsClassifier(n_neighbors=5) #k=5\n",
    "classifier.fit(X_train, y_train)"
   ]
  },
  {
   "cell_type": "code",
   "execution_count": 11,
   "metadata": {
    "id": "rhAcXm7U-F8r"
   },
   "outputs": [],
   "source": [
    "#?KNeighborsClassifier()"
   ]
  },
  {
   "cell_type": "code",
   "execution_count": 12,
   "metadata": {
    "id": "Y4CwyMoutpN-"
   },
   "outputs": [],
   "source": [
    "y_pred = classifier.predict(X_test) #y_test"
   ]
  },
  {
   "cell_type": "code",
   "execution_count": 28,
   "metadata": {},
   "outputs": [
    {
     "name": "stdout",
     "output_type": "stream",
     "text": [
      "['Iris-versicolor' 'Iris-versicolor' 'Iris-versicolor' 'Iris-setosa'\n",
      " 'Iris-virginica' 'Iris-versicolor' 'Iris-setosa' 'Iris-setosa'\n",
      " 'Iris-setosa' 'Iris-setosa' 'Iris-setosa' 'Iris-virginica' 'Iris-setosa'\n",
      " 'Iris-setosa' 'Iris-virginica' 'Iris-virginica' 'Iris-virginica'\n",
      " 'Iris-setosa' 'Iris-versicolor' 'Iris-setosa' 'Iris-versicolor'\n",
      " 'Iris-setosa' 'Iris-versicolor' 'Iris-setosa' 'Iris-versicolor'\n",
      " 'Iris-virginica' 'Iris-versicolor' 'Iris-setosa' 'Iris-virginica'\n",
      " 'Iris-virginica']\n"
     ]
    }
   ],
   "source": [
    "print(y_pred)"
   ]
  },
  {
   "cell_type": "code",
   "execution_count": 29,
   "metadata": {},
   "outputs": [
    {
     "name": "stdout",
     "output_type": "stream",
     "text": [
      "['Iris-versicolor' 'Iris-versicolor' 'Iris-versicolor' 'Iris-setosa'\n",
      " 'Iris-virginica' 'Iris-virginica' 'Iris-setosa' 'Iris-setosa'\n",
      " 'Iris-setosa' 'Iris-setosa' 'Iris-setosa' 'Iris-virginica' 'Iris-setosa'\n",
      " 'Iris-setosa' 'Iris-virginica' 'Iris-virginica' 'Iris-virginica'\n",
      " 'Iris-setosa' 'Iris-versicolor' 'Iris-setosa' 'Iris-versicolor'\n",
      " 'Iris-setosa' 'Iris-versicolor' 'Iris-setosa' 'Iris-versicolor'\n",
      " 'Iris-virginica' 'Iris-versicolor' 'Iris-setosa' 'Iris-virginica'\n",
      " 'Iris-virginica']\n"
     ]
    }
   ],
   "source": [
    "print(y_test)"
   ]
  },
  {
   "cell_type": "code",
   "execution_count": 36,
   "metadata": {
    "colab": {
     "base_uri": "https://localhost:8080/"
    },
    "id": "P1zArHIlttL8",
    "outputId": "57855e5f-effc-4246-f062-580ebdc5e5d6"
   },
   "outputs": [
    {
     "name": "stdout",
     "output_type": "stream",
     "text": [
      "Score: 0.9\n"
     ]
    }
   ],
   "source": [
    "print ('Score:', knn.score(X_test, y_pred))"
   ]
  },
  {
   "cell_type": "code",
   "execution_count": 37,
   "metadata": {},
   "outputs": [
    {
     "data": {
      "text/plain": [
       "Text(0, 0.5, 'Predictions')"
      ]
     },
     "execution_count": 37,
     "metadata": {},
     "output_type": "execute_result"
    },
    {
     "data": {
      "image/png": "[encoded data removed]",
      "text/plain": [
       "<Figure size 432x288 with 1 Axes>"
      ]
     },
     "metadata": {
      "needs_background": "light"
     },
     "output_type": "display_data"
    }
   ],
   "source": [
    "plt.scatter(y_test, y_pred)\n",
    "plt.xlabel('True Values')\n",
    "plt.ylabel('Predictions')"
   ]
  },
  {
   "cell_type": "code",
   "execution_count": 31,
   "metadata": {
    "id": "8aF9_N61tvwG"
   },
   "outputs": [],
   "source": [
    "error = []\n",
    "\n",
    "# Calculating error for K values between 1 and 40\n",
    "for i in range(1, 40):\n",
    "    knn = KNeighborsClassifier(n_neighbors=i) \n",
    "    knn.fit(X_train, y_train) \n",
    "    pred_i = knn.predict(X_test)\n",
    "    error.append(np.mean(pred_i != y_test))  #mean(pred_i != y_test) will average out the value between 0-1 which will be appended to error rate."
   ]
  },
  {
   "cell_type": "code",
   "execution_count": 32,
   "metadata": {
    "colab": {
     "base_uri": "https://localhost:8080/",
     "height": 422
    },
    "id": "cCsrXcrJt7jo",
    "outputId": "cb075603-bca4-4ebd-e413-e9606cfb188a"
   },
   "outputs": [
    {
     "data": {
      "text/plain": [
       "Text(0, 0.5, 'Mean Error')"
      ]
     },
     "execution_count": 32,
     "metadata": {},
     "output_type": "execute_result"
    },
    {
     "data": {
      "image/png": "[encoded data removed]",
      "text/plain": [
       "<Figure size 864x432 with 1 Axes>"
      ]
     },
     "metadata": {
      "needs_background": "light"
     },
     "output_type": "display_data"
    }
   ],
   "source": [
    "plt.figure(figsize=(12, 6))\n",
    "plt.plot(range(1, 40), error, color='red', linestyle='dashed',marker='o', markerfacecolor='purple', markersize=10)\n",
    "plt.title('Error Rate K Value')\n",
    "plt.xlabel('K Value')\n",
    "plt.ylabel('Mean Error') #Least error is for value of k which is sqrt(data points) i:e sqrt(150) "
   ]
  },
  {
   "cell_type": "code",
   "execution_count": null,
   "metadata": {},
   "outputs": [],
   "source": []
  }
 ],
 "metadata": {
  "colab": {
   "name": "KNN.ipynb",
   "provenance": []
  },
  "kernelspec": {
   "display_name": "Python 3",
   "language": "python",
   "name": "python3"
  },
  "language_info": {
   "codemirror_mode": {
    "name": "ipython",
    "version": 3
   },
   "file_extension": ".py",
   "mimetype": "text/x-python",
   "name": "python",
   "nbconvert_exporter": "python",
   "pygments_lexer": "ipython3",
   "version": "3.7.6"
  }
 },
 "nbformat": 4,
 "nbformat_minor": 1
}
